{
 "cells": [
  {
   "cell_type": "markdown",
   "id": "ad07f763-7f72-44b3-a541-5e448f8b2876",
   "metadata": {
    "tags": []
   },
   "source": [
    "# Fashion-MNIST with PyTorch"
   ]
  },
  {
   "cell_type": "code",
   "execution_count": 1,
   "id": "66d77be2-7af7-484b-8258-9bb9ca0c5030",
   "metadata": {},
   "outputs": [],
   "source": [
    "import torch\n",
    "import torch.nn as nn\n",
    "import torch.optim as optim\n",
    "import torch.nn.functional as F\n",
    "import torch.optim as optim\n",
    "\n",
    "import torchvision\n",
    "import torchvision.transforms as transforms\n",
    "\n",
    "import numpy as np\n",
    "import pandas as pd\n",
    "import matplotlib.pyplot as plt\n",
    "\n",
    "from sklearn.metrics import confusion_matrix\n",
    "\n",
    "torch.set_printoptions(linewidth=120) # allows PyTorch to print longer lines (not required)"
   ]
  },
  {
   "cell_type": "markdown",
   "id": "60636fb6-82d2-436e-a83f-e1419f696367",
   "metadata": {
    "jp-MarkdownHeadingCollapsed": true,
    "tags": []
   },
   "source": [
    "## Prepare the Data"
   ]
  },
  {
   "cell_type": "markdown",
   "id": "8240cf43-25ca-45d9-a625-feee6aa8e5ca",
   "metadata": {
    "jp-MarkdownHeadingCollapsed": true,
    "tags": []
   },
   "source": [
    "### ETL Process"
   ]
  },
  {
   "cell_type": "markdown",
   "id": "306e6d60-0609-4007-9fd6-7bcfb2536e9f",
   "metadata": {},
   "source": [
    "To prepare the data, we will use an ETL process:\n",
    "- **E:** Extract the data from a data-source\n",
    "- **T:** Transform the data into a desireable format\n",
    "- **L:** Load the data into a suitable structure for analysis"
   ]
  },
  {
   "cell_type": "markdown",
   "id": "0b24a042-c825-4d27-b7ee-efb9989eaf4f",
   "metadata": {},
   "source": [
    "First, we need to create an instance of the PyTorch dataset class (`torch.utils.data.Dataset`), which is an abstract class for representing a dataset. In practice, we would create a class that extends this class and define methods for `__len__` and `__getitem__`. Since the Fashion-MNIST dataset is built into torchvision, we can simply create a dataset object using the following built-in function."
   ]
  },
  {
   "cell_type": "code",
   "execution_count": 2,
   "id": "7dec50ca-a5cb-4fcc-a2fb-f41957eb3d8e",
   "metadata": {},
   "outputs": [],
   "source": [
    "train_set = torchvision.datasets.FashionMNIST(\n",
    "    root = './data', # The location on disk where the data is located.\n",
    "    train = True, # If the dataset is the training set\n",
    "    download = True, # If the data should be downloaded\n",
    "    transform = transforms.Compose([ # A composition of transformations that should be performed on the dataset elements.\n",
    "        transforms.ToTensor()\n",
    "    ])\n",
    ")"
   ]
  },
  {
   "cell_type": "markdown",
   "id": "f105c2de-bcd7-47f5-8c07-2a8b6e1718ec",
   "metadata": {},
   "source": [
    "Next, we pass this dataset object to a dataloader class which wraps the dataset and provides access to the underlying data as well as additional functions such as minibatches, shuffling, etc."
   ]
  },
  {
   "cell_type": "code",
   "execution_count": 3,
   "id": "a46a1b4a-5798-41dd-8f1a-3f772cfc19ed",
   "metadata": {},
   "outputs": [],
   "source": [
    "train_loader = torch.utils.data.DataLoader(\n",
    "    train_set,\n",
    "    batch_size=100,\n",
    "    shuffle=True\n",
    ")"
   ]
  },
  {
   "cell_type": "markdown",
   "id": "8eb7f677-e9bb-46bc-a770-137f6dd5fd74",
   "metadata": {
    "jp-MarkdownHeadingCollapsed": true,
    "tags": []
   },
   "source": [
    "### Exploring the Data"
   ]
  },
  {
   "cell_type": "code",
   "execution_count": 4,
   "id": "25c23d52-3fff-47aa-87fa-8384a93062ba",
   "metadata": {},
   "outputs": [
    {
     "data": {
      "text/plain": [
       "Dataset FashionMNIST\n",
       "    Number of datapoints: 60000\n",
       "    Root location: ./data\n",
       "    Split: Train\n",
       "    StandardTransform\n",
       "Transform: Compose(\n",
       "               ToTensor()\n",
       "           )"
      ]
     },
     "execution_count": 4,
     "metadata": {},
     "output_type": "execute_result"
    }
   ],
   "source": [
    "train_set"
   ]
  },
  {
   "cell_type": "code",
   "execution_count": 5,
   "id": "bf6a4159-8e35-4d60-b909-5a93596a563b",
   "metadata": {},
   "outputs": [
    {
     "data": {
      "text/plain": [
       "60000"
      ]
     },
     "execution_count": 5,
     "metadata": {},
     "output_type": "execute_result"
    }
   ],
   "source": [
    "len(train_set)"
   ]
  },
  {
   "cell_type": "code",
   "execution_count": 6,
   "id": "a2fb74b0-1137-4316-ba9b-21c1c6170805",
   "metadata": {},
   "outputs": [
    {
     "data": {
      "text/plain": [
       "tensor([9, 0, 0,  ..., 3, 0, 5])"
      ]
     },
     "execution_count": 6,
     "metadata": {},
     "output_type": "execute_result"
    }
   ],
   "source": [
    "train_set.targets"
   ]
  },
  {
   "cell_type": "code",
   "execution_count": 7,
   "id": "c69d1bcb-c4b4-440b-958c-b35f9555a25e",
   "metadata": {},
   "outputs": [
    {
     "data": {
      "text/plain": [
       "tensor([6000, 6000, 6000, 6000, 6000, 6000, 6000, 6000, 6000, 6000])"
      ]
     },
     "execution_count": 7,
     "metadata": {},
     "output_type": "execute_result"
    }
   ],
   "source": [
    "train_set.targets.bincount() # Every class has 6000 examples"
   ]
  },
  {
   "cell_type": "markdown",
   "id": "cd000b5b-c6d1-43ca-87fc-b15d8f41ff4a",
   "metadata": {},
   "source": [
    "**Note:** If the dataset is unbalanced, the best apprach is to oversample classes that appear less frequently in the training set, so that the neural network trains on each class equally."
   ]
  },
  {
   "cell_type": "code",
   "execution_count": 8,
   "id": "6fdf3331-f0b8-4efd-ba49-dd224a7f5878",
   "metadata": {},
   "outputs": [],
   "source": [
    "sample = next(iter(train_set))"
   ]
  },
  {
   "cell_type": "code",
   "execution_count": 9,
   "id": "4aaeb63a-fe70-4b4f-b188-8b05474a6ab1",
   "metadata": {},
   "outputs": [
    {
     "data": {
      "text/plain": [
       "(2, tuple)"
      ]
     },
     "execution_count": 9,
     "metadata": {},
     "output_type": "execute_result"
    }
   ],
   "source": [
    "len(sample), type(sample)"
   ]
  },
  {
   "cell_type": "code",
   "execution_count": 10,
   "id": "28342010-f662-4603-84bb-ab932c27a1cf",
   "metadata": {},
   "outputs": [],
   "source": [
    "image, label = sample"
   ]
  },
  {
   "cell_type": "code",
   "execution_count": 11,
   "id": "68be34d2-d230-41bd-918f-96bd42b6b352",
   "metadata": {},
   "outputs": [
    {
     "data": {
      "text/plain": [
       "torch.Size([1, 28, 28])"
      ]
     },
     "execution_count": 11,
     "metadata": {},
     "output_type": "execute_result"
    }
   ],
   "source": [
    "image.shape"
   ]
  },
  {
   "cell_type": "code",
   "execution_count": 12,
   "id": "84fd0193-8714-4b0c-afc0-4177239642e8",
   "metadata": {},
   "outputs": [
    {
     "name": "stdout",
     "output_type": "stream",
     "text": [
      "Label: 9\n"
     ]
    },
    {
     "data": {
      "image/png": "[encoded data removed]",
      "text/plain": [
       "<Figure size 640x480 with 1 Axes>"
      ]
     },
     "metadata": {},
     "output_type": "display_data"
    }
   ],
   "source": [
    "plt.imshow(image.squeeze(), cmap='gray');\n",
    "print('Label:', label)"
   ]
  },
  {
   "cell_type": "code",
   "execution_count": 13,
   "id": "4ae9275d-6841-47df-9257-a43fd46840e8",
   "metadata": {},
   "outputs": [],
   "source": [
    "batch = next(iter(train_loader))"
   ]
  },
  {
   "cell_type": "code",
   "execution_count": 14,
   "id": "0b1c2bca-35ce-4ecc-a0ad-d853fb317c41",
   "metadata": {},
   "outputs": [
    {
     "data": {
      "text/plain": [
       "(2, list)"
      ]
     },
     "execution_count": 14,
     "metadata": {},
     "output_type": "execute_result"
    }
   ],
   "source": [
    "len(batch), type(batch)"
   ]
  },
  {
   "cell_type": "code",
   "execution_count": 15,
   "id": "0aec6192-bf72-4f10-a69e-2cfac4030eb2",
   "metadata": {},
   "outputs": [],
   "source": [
    "images, labels = batch"
   ]
  },
  {
   "cell_type": "code",
   "execution_count": 16,
   "id": "35f0b654-38d3-476b-9459-3f4dca57627d",
   "metadata": {},
   "outputs": [
    {
     "data": {
      "text/plain": [
       "(torch.Size([100, 1, 28, 28]), torch.Size([100]))"
      ]
     },
     "execution_count": 16,
     "metadata": {},
     "output_type": "execute_result"
    }
   ],
   "source": [
    "images.shape, labels.shape"
   ]
  },
  {
   "cell_type": "code",
   "execution_count": 17,
   "id": "f993a6b7-da35-4808-8024-ac6bee038170",
   "metadata": {},
   "outputs": [
    {
     "data": {
      "text/plain": [
       "torch.Size([1, 28, 28])"
      ]
     },
     "execution_count": 17,
     "metadata": {},
     "output_type": "execute_result"
    }
   ],
   "source": [
    "images[0].shape # First image in the batch"
   ]
  },
  {
   "cell_type": "code",
   "execution_count": 18,
   "id": "100cb07f-dc6b-4ae8-8715-01ab1afddc91",
   "metadata": {},
   "outputs": [
    {
     "data": {
      "image/png": "[encoded data removed]",
      "text/plain": [
       "<Figure size 1600x1600 with 1 Axes>"
      ]
     },
     "metadata": {},
     "output_type": "display_data"
    }
   ],
   "source": [
    "grid = torchvision.utils.make_grid(images, nrows=12)\n",
    "\n",
    "plt.figure(figsize=(16,16))\n",
    "plt.imshow(np.transpose(grid, (1,2,0)));"
   ]
  },
  {
   "cell_type": "markdown",
   "id": "5ec724da-0959-4781-9daa-1c701ff451ab",
   "metadata": {
    "jp-MarkdownHeadingCollapsed": true,
    "tags": []
   },
   "source": [
    "## Build the Model"
   ]
  },
  {
   "cell_type": "code",
   "execution_count": 19,
   "id": "199593e3-8da7-48ee-ba8b-6a94bcc7585a",
   "metadata": {},
   "outputs": [],
   "source": [
    "class Network(nn.Module):\n",
    "    \n",
    "    def __init__(self):\n",
    "        super().__init__()\n",
    "        # PyTorch automatically keeps track of the learnable parameters in layers defined as attributes\n",
    "        self.conv1 = nn.Conv2d(in_channels=1, out_channels=6, kernel_size=5)\n",
    "        self.conv2 = nn.Conv2d(in_channels=6, out_channels=12, kernel_size=5)\n",
    "        self.fc1 = nn.Linear(in_features=12*4*4, out_features=120) # The words linear, dense, and fully connected refer to the same type of layer\n",
    "        self.fc2 = nn.Linear(in_features=120, out_features=60)\n",
    "        self.out = nn.Linear(in_features=60, out_features=10)\n",
    "        \n",
    "    def forward(self, t):\n",
    "        # Conv Layer 1\n",
    "        t = F.relu(self.conv1(t))\n",
    "        t = F.max_pool2d(t, kernel_size=2, stride=2)\n",
    "        \n",
    "        # Conv Layer 2\n",
    "        t = F.relu(self.conv2(t))\n",
    "        t = F.max_pool2d(t, kernel_size=2, stride=2)\n",
    "        \n",
    "        # FC Layer 3\n",
    "        t = F.relu(self.fc1(t.reshape(-1, 12*4*4))) # We don't use flatten since it won't work with batches\n",
    "        \n",
    "        # FC Layer 4\n",
    "        t = F.relu(self.fc2(t))\n",
    "        \n",
    "        # FC Layer 5\n",
    "        t = self.out(t) # We don't use softmax since cross-entropy loss implicitly performs softmax\n",
    "        \n",
    "        return t"
   ]
  },
  {
   "cell_type": "code",
   "execution_count": 20,
   "id": "eb5defc5-5df9-4c3b-a346-c00abca587ce",
   "metadata": {},
   "outputs": [
    {
     "data": {
      "text/plain": [
       "Network(\n",
       "  (conv1): Conv2d(1, 6, kernel_size=(5, 5), stride=(1, 1))\n",
       "  (conv2): Conv2d(6, 12, kernel_size=(5, 5), stride=(1, 1))\n",
       "  (fc1): Linear(in_features=192, out_features=120, bias=True)\n",
       "  (fc2): Linear(in_features=120, out_features=60, bias=True)\n",
       "  (out): Linear(in_features=60, out_features=10, bias=True)\n",
       ")"
      ]
     },
     "execution_count": 20,
     "metadata": {},
     "output_type": "execute_result"
    }
   ],
   "source": [
    "network = Network()\n",
    "network"
   ]
  },
  {
   "cell_type": "markdown",
   "id": "4e6246ac-dc73-4b12-b4f8-8933428f7b28",
   "metadata": {
    "jp-MarkdownHeadingCollapsed": true,
    "tags": []
   },
   "source": [
    "### Viewing Weight Tensors"
   ]
  },
  {
   "cell_type": "code",
   "execution_count": 21,
   "id": "b123c8f6-1558-4501-9227-8b30f207c3d7",
   "metadata": {},
   "outputs": [
    {
     "data": {
      "text/plain": [
       "(Parameter containing:\n",
       " tensor([[ 7.1996e-02, -8.3261e-02,  2.4689e-02,  ..., -1.2638e-02,  5.2763e-03,  5.0148e-02],\n",
       "         [-7.2844e-02,  3.2703e-02,  8.4924e-02,  ...,  8.8765e-02,  1.6149e-02,  2.5029e-02],\n",
       "         [ 6.4924e-02,  3.0896e-02, -1.5102e-02,  ..., -3.4656e-03, -8.4575e-02, -9.0430e-02],\n",
       "         ...,\n",
       "         [ 2.1942e-05,  5.8267e-02, -4.6626e-02,  ...,  1.6240e-02,  4.7916e-02,  5.3839e-02],\n",
       "         [ 4.0472e-02,  6.4366e-02, -2.0484e-02,  ..., -5.5252e-02,  6.8639e-02,  5.0070e-02],\n",
       "         [ 2.0267e-02, -7.5089e-02, -5.1724e-02,  ..., -4.7100e-02,  1.9755e-02,  8.6049e-02]], requires_grad=True),\n",
       " Parameter containing:\n",
       " tensor([-0.0881,  0.0157,  0.0078,  0.0511, -0.0581,  0.0509,  0.0812,  0.0092,  0.0425,  0.0812, -0.0521,  0.0841,\n",
       "          0.0863, -0.0571,  0.0166, -0.0802, -0.0811,  0.0736, -0.0862, -0.0561,  0.0240,  0.0609, -0.0897,  0.0103,\n",
       "          0.0258,  0.0145, -0.0570, -0.0050,  0.0074,  0.0320,  0.0056,  0.0510, -0.0308, -0.0629, -0.0150,  0.0729,\n",
       "         -0.0674, -0.0847, -0.0482, -0.0241,  0.0225, -0.0745,  0.0904, -0.0102, -0.0143,  0.0735,  0.0148, -0.0478,\n",
       "          0.0806,  0.0521, -0.0783,  0.0645, -0.0412, -0.0677,  0.0866, -0.0368,  0.0786, -0.0123, -0.0053, -0.0567],\n",
       "        requires_grad=True))"
      ]
     },
     "execution_count": 21,
     "metadata": {},
     "output_type": "execute_result"
    }
   ],
   "source": [
    "network.fc2.weight, network.fc2.bias # Randomly initialized"
   ]
  },
  {
   "cell_type": "code",
   "execution_count": 22,
   "id": "3e2d71fe-144b-4101-a440-bb26dfad1f33",
   "metadata": {},
   "outputs": [
    {
     "data": {
      "text/plain": [
       "torch.Size([6, 1, 5, 5])"
      ]
     },
     "execution_count": 22,
     "metadata": {},
     "output_type": "execute_result"
    }
   ],
   "source": [
    "network.conv1.weight.shape"
   ]
  },
  {
   "cell_type": "code",
   "execution_count": 23,
   "id": "5468de1d-1e2e-45a0-b51b-f2edbda9c924",
   "metadata": {},
   "outputs": [
    {
     "data": {
      "text/plain": [
       "torch.Size([120, 192])"
      ]
     },
     "execution_count": 23,
     "metadata": {},
     "output_type": "execute_result"
    }
   ],
   "source": [
    "network.fc1.weight.shape"
   ]
  },
  {
   "cell_type": "code",
   "execution_count": 24,
   "id": "55c01b99-c469-4bf6-a74a-29854a520af2",
   "metadata": {},
   "outputs": [
    {
     "name": "stdout",
     "output_type": "stream",
     "text": [
      "torch.Size([6, 1, 5, 5])\n",
      "torch.Size([6])\n",
      "torch.Size([12, 6, 5, 5])\n",
      "torch.Size([12])\n",
      "torch.Size([120, 192])\n",
      "torch.Size([120])\n",
      "torch.Size([60, 120])\n",
      "torch.Size([60])\n",
      "torch.Size([10, 60])\n",
      "torch.Size([10])\n"
     ]
    }
   ],
   "source": [
    "for param in network.parameters():\n",
    "    print(param.shape)"
   ]
  },
  {
   "cell_type": "code",
   "execution_count": 25,
   "id": "22476f40-0885-459c-93fd-d5526ce436c0",
   "metadata": {},
   "outputs": [
    {
     "name": "stdout",
     "output_type": "stream",
     "text": [
      "conv1.weight \t torch.Size([6, 1, 5, 5])\n",
      "conv1.bias \t torch.Size([6])\n",
      "conv2.weight \t torch.Size([12, 6, 5, 5])\n",
      "conv2.bias \t torch.Size([12])\n",
      "fc1.weight \t torch.Size([120, 192])\n",
      "fc1.bias \t torch.Size([120])\n",
      "fc2.weight \t torch.Size([60, 120])\n",
      "fc2.bias \t torch.Size([60])\n",
      "out.weight \t torch.Size([10, 60])\n",
      "out.bias \t torch.Size([10])\n"
     ]
    }
   ],
   "source": [
    "for name, param in network.named_parameters():\n",
    "    print(name, '\\t', param.shape)"
   ]
  },
  {
   "attachments": {},
   "cell_type": "markdown",
   "id": "2f80bc1d-58b3-4cd2-ad34-18ef6dacbfb0",
   "metadata": {
    "jp-MarkdownHeadingCollapsed": true,
    "tags": []
   },
   "source": [
    "### Note on Using `nn.Module` Layers"
   ]
  },
  {
   "cell_type": "code",
   "execution_count": 26,
   "id": "29b73349-05ca-417a-8eb4-5c06f6bc830d",
   "metadata": {},
   "outputs": [
    {
     "data": {
      "text/plain": [
       "tensor([-0.7315,  1.2188, -3.1818], grad_fn=<SqueezeBackward4>)"
      ]
     },
     "execution_count": 26,
     "metadata": {},
     "output_type": "execute_result"
    }
   ],
   "source": [
    "in_features = torch.tensor([1,2,3,4], dtype=torch.float32)\n",
    "test_fc = nn.Linear(in_features=4, out_features=3, bias=False)\n",
    "test_fc(in_features) # PyTorch nn modules are callable python objects (use like functions)"
   ]
  },
  {
   "cell_type": "code",
   "execution_count": 27,
   "id": "7cfe5ebe-a06a-42e4-8850-6551986d86a8",
   "metadata": {},
   "outputs": [
    {
     "data": {
      "text/plain": [
       "tensor([30., 40., 50.], grad_fn=<SqueezeBackward4>)"
      ]
     },
     "execution_count": 27,
     "metadata": {},
     "output_type": "execute_result"
    }
   ],
   "source": [
    "# Specifying the weights manually\n",
    "weight_matrix = torch.tensor([\n",
    "    [1,2,3,4],\n",
    "    [2,3,4,5],\n",
    "    [3,4,5,6],\n",
    "], dtype=torch.float32)\n",
    "test_fc.weight = nn.Parameter(weight_matrix)\n",
    "test_fc(in_features)"
   ]
  },
  {
   "cell_type": "markdown",
   "id": "a3678c84-f801-497c-a860-267b6dc9268a",
   "metadata": {
    "jp-MarkdownHeadingCollapsed": true,
    "tags": []
   },
   "source": [
    "### Testing Forward Propagation"
   ]
  },
  {
   "cell_type": "code",
   "execution_count": 28,
   "id": "c793e126-6080-4dcd-8beb-2216150d165e",
   "metadata": {},
   "outputs": [
    {
     "data": {
      "text/plain": [
       "<torch.autograd.grad_mode.set_grad_enabled at 0x238b1146b90>"
      ]
     },
     "execution_count": 28,
     "metadata": {},
     "output_type": "execute_result"
    }
   ],
   "source": [
    "torch.set_grad_enabled(False) # Turns off gradient calculations to save memory (not required but good practice)"
   ]
  },
  {
   "cell_type": "code",
   "execution_count": 29,
   "id": "7b471cd0-1902-448a-9bd6-edd7df073dfd",
   "metadata": {},
   "outputs": [
    {
     "data": {
      "text/plain": [
       "(torch.Size([1, 28, 28]), 9)"
      ]
     },
     "execution_count": 29,
     "metadata": {},
     "output_type": "execute_result"
    }
   ],
   "source": [
    "image, label = next(iter(train_set))\n",
    "image.shape, label"
   ]
  },
  {
   "cell_type": "code",
   "execution_count": 30,
   "id": "55a54752-e5a2-4be7-8632-4c508ba7d1da",
   "metadata": {},
   "outputs": [
    {
     "data": {
      "text/plain": [
       "torch.Size([1, 1, 28, 28])"
      ]
     },
     "execution_count": 30,
     "metadata": {},
     "output_type": "execute_result"
    }
   ],
   "source": [
    "single_image_batch = image.unsqueeze(0) # The neural network forward method expects a batch so we add another dimension of length 1\n",
    "single_image_batch.shape"
   ]
  },
  {
   "cell_type": "code",
   "execution_count": 31,
   "id": "32be5f41-f26c-4b67-9e34-0a7a5622752b",
   "metadata": {},
   "outputs": [
    {
     "data": {
      "text/plain": [
       "tensor([[-0.0006,  0.1032, -0.0044, -0.0215,  0.0577, -0.0475,  0.0104,  0.0024,  0.0346,  0.1065]])"
      ]
     },
     "execution_count": 31,
     "metadata": {},
     "output_type": "execute_result"
    }
   ],
   "source": [
    "network(single_image_batch) # Predictions for each class"
   ]
  },
  {
   "cell_type": "code",
   "execution_count": 32,
   "id": "9bcb623a-9fee-4f79-89a5-cda69e870eb6",
   "metadata": {},
   "outputs": [
    {
     "data": {
      "text/plain": [
       "(torch.Size([100, 1, 28, 28]), torch.Size([100]))"
      ]
     },
     "execution_count": 32,
     "metadata": {},
     "output_type": "execute_result"
    }
   ],
   "source": [
    "images, labels = next(iter(train_loader))\n",
    "images.shape, labels.shape"
   ]
  },
  {
   "cell_type": "code",
   "execution_count": 33,
   "id": "2cafe334-33c1-41d6-97e5-4f207c391be9",
   "metadata": {},
   "outputs": [
    {
     "data": {
      "text/plain": [
       "torch.Size([100, 10])"
      ]
     },
     "execution_count": 33,
     "metadata": {},
     "output_type": "execute_result"
    }
   ],
   "source": [
    "preds = network(images) # Predictions for each class for each image in the batch\n",
    "preds.shape"
   ]
  },
  {
   "cell_type": "code",
   "execution_count": 34,
   "id": "b5439c77-ece8-4372-89cf-42e9be7ee48a",
   "metadata": {},
   "outputs": [
    {
     "data": {
      "text/plain": [
       "tensor([[-1.5759e-03,  9.7278e-02, -4.7843e-03, -2.5835e-02,  6.2429e-02, -5.0909e-02,  1.3726e-02,  4.1447e-03,\n",
       "          3.7093e-02,  1.0893e-01],\n",
       "        [ 1.8458e-04,  1.0207e-01, -3.6818e-03, -2.2024e-02,  5.9358e-02, -4.5379e-02,  8.8987e-03,  2.3622e-03,\n",
       "          3.5837e-02,  1.0669e-01],\n",
       "        [ 4.2209e-04,  1.0556e-01, -3.8270e-03, -2.2331e-02,  5.7705e-02, -4.6844e-02,  1.1458e-02,  5.2357e-04,\n",
       "          3.8347e-02,  1.0752e-01],\n",
       "        [-1.8143e-03,  9.7199e-02, -4.9301e-03, -2.2816e-02,  6.2896e-02, -4.9273e-02,  1.4165e-02,  1.1748e-03,\n",
       "          3.8020e-02,  1.0671e-01],\n",
       "        [ 8.6765e-05,  1.0039e-01, -1.5229e-03, -2.3431e-02,  6.0758e-02, -4.5907e-02,  1.1474e-02,  1.9097e-03,\n",
       "          3.9947e-02,  1.0503e-01],\n",
       "        [-4.1415e-03,  1.0250e-01, -4.4261e-03, -2.4805e-02,  5.8844e-02, -4.6073e-02,  1.3018e-02,  3.1402e-03,\n",
       "          3.6115e-02,  1.0450e-01],\n",
       "        [-2.9771e-03,  9.7879e-02, -4.4613e-03, -2.5847e-02,  6.1389e-02, -4.9117e-02,  1.2606e-02,  2.1517e-03,\n",
       "          3.5105e-02,  1.0572e-01],\n",
       "        [-1.0679e-03,  9.9064e-02, -7.5981e-04, -2.1973e-02,  5.9011e-02, -4.8838e-02,  9.8084e-03,  2.6994e-03,\n",
       "          3.8896e-02,  1.0511e-01],\n",
       "        [-3.0567e-03,  1.0093e-01, -3.0876e-03, -2.1887e-02,  5.9174e-02, -4.5983e-02,  1.1302e-02,  1.7170e-03,\n",
       "          3.6106e-02,  1.0341e-01],\n",
       "        [-3.0202e-03,  9.7535e-02, -7.1630e-04, -2.3218e-02,  5.9960e-02, -4.8051e-02,  1.1248e-02,  2.6127e-03,\n",
       "          3.6404e-02,  1.0387e-01],\n",
       "        [-3.7732e-03,  1.0027e-01, -4.2379e-04, -2.2256e-02,  5.6251e-02, -4.6343e-02,  1.1331e-02,  4.4222e-03,\n",
       "          3.8082e-02,  1.0308e-01],\n",
       "        [-6.0632e-03,  9.4117e-02, -5.4616e-03, -2.3689e-02,  5.9626e-02, -5.0054e-02,  1.3474e-02,  1.6274e-03,\n",
       "          3.6086e-02,  1.0970e-01],\n",
       "        [ 2.4683e-03,  1.0157e-01, -5.9081e-03, -2.3994e-02,  6.3213e-02, -4.5948e-02,  1.4680e-02,  4.4738e-03,\n",
       "          3.6062e-02,  1.0902e-01],\n",
       "        [-4.9992e-04,  1.0089e-01, -6.8534e-03, -2.0956e-02,  6.0838e-02, -4.3253e-02,  7.8627e-03,  5.0628e-05,\n",
       "          3.2846e-02,  1.0857e-01],\n",
       "        [-5.9250e-03,  9.5846e-02, -2.0375e-03, -2.3871e-02,  5.8860e-02, -5.0951e-02,  1.2029e-02,  3.1019e-03,\n",
       "          3.7294e-02,  1.0488e-01],\n",
       "        [-1.5396e-03,  1.0401e-01, -1.9504e-03, -2.1146e-02,  5.7337e-02, -4.6541e-02,  9.3339e-03,  6.0111e-03,\n",
       "          3.6204e-02,  1.0400e-01],\n",
       "        [-2.7599e-03,  9.9089e-02, -8.7738e-03, -2.3150e-02,  6.2072e-02, -4.8398e-02,  1.2800e-02,  2.8670e-03,\n",
       "          3.7324e-02,  1.0936e-01],\n",
       "        [ 2.5224e-03,  9.9957e-02, -1.2231e-03, -2.2798e-02,  6.1293e-02, -4.8324e-02,  1.0878e-02,  1.3952e-03,\n",
       "          3.6990e-02,  1.0852e-01],\n",
       "        [ 5.7687e-04,  1.0123e-01, -1.8369e-03, -2.2033e-02,  5.8779e-02, -4.6823e-02,  1.0520e-02,  3.2565e-03,\n",
       "          3.8251e-02,  1.0403e-01],\n",
       "        [-2.9865e-03,  1.0662e-01, -3.7743e-03, -1.9931e-02,  5.6865e-02, -4.6584e-02,  1.0208e-02,  4.3040e-03,\n",
       "          3.5152e-02,  1.0323e-01],\n",
       "        [-2.1910e-05,  9.9722e-02,  5.0359e-04, -1.9806e-02,  5.8697e-02, -4.7481e-02,  1.1342e-02,  4.6964e-04,\n",
       "          3.9061e-02,  1.0532e-01],\n",
       "        [ 4.1182e-03,  1.0184e-01, -3.8209e-03, -2.0823e-02,  6.0168e-02, -4.4681e-02,  7.8512e-03, -6.2560e-04,\n",
       "          3.5418e-02,  1.0942e-01],\n",
       "        [-2.5289e-03,  9.8141e-02, -3.9209e-03, -2.6368e-02,  5.9335e-02, -5.0115e-02,  1.5101e-02,  4.6463e-03,\n",
       "          3.8203e-02,  1.0700e-01],\n",
       "        [-3.4069e-03,  9.8434e-02,  1.1106e-03, -2.2954e-02,  5.8666e-02, -4.7624e-02,  1.1308e-02,  2.4455e-03,\n",
       "          3.7857e-02,  1.0499e-01],\n",
       "        [-1.4648e-03,  9.8712e-02, -2.4970e-03, -2.5671e-02,  6.0961e-02, -4.9639e-02,  1.2680e-02,  1.6172e-03,\n",
       "          3.6582e-02,  1.0655e-01],\n",
       "        [ 7.5722e-04,  1.0211e-01, -3.6274e-03, -2.2288e-02,  6.0392e-02, -4.5721e-02,  9.0514e-03,  1.8233e-03,\n",
       "          3.6931e-02,  1.0563e-01],\n",
       "        [ 2.3299e-04,  1.0050e-01,  6.7367e-05, -2.3077e-02,  6.0196e-02, -4.9041e-02,  1.2640e-02,  4.6321e-03,\n",
       "          3.8601e-02,  1.0511e-01],\n",
       "        [-9.6875e-04,  9.8764e-02, -7.5458e-03, -2.2109e-02,  6.3780e-02, -4.9770e-02,  1.3433e-02,  4.7755e-03,\n",
       "          3.5219e-02,  1.0999e-01],\n",
       "        [-1.5099e-03,  1.0534e-01, -6.3965e-03, -2.1158e-02,  5.8726e-02, -4.4451e-02,  1.0517e-02,  2.7284e-03,\n",
       "          3.5432e-02,  1.0569e-01],\n",
       "        [-3.0936e-03,  9.7922e-02, -2.4059e-03, -2.1904e-02,  6.0473e-02, -5.0580e-02,  1.2853e-02,  5.7587e-04,\n",
       "          3.6645e-02,  1.0486e-01],\n",
       "        [-1.8658e-03,  9.9676e-02, -3.4503e-03, -2.3374e-02,  6.2158e-02, -4.7748e-02,  1.3499e-02,  3.2401e-04,\n",
       "          3.5225e-02,  1.0432e-01],\n",
       "        [-4.2754e-03,  9.8323e-02,  9.9723e-04, -2.5177e-02,  5.8587e-02, -4.9233e-02,  1.3339e-02,  4.0615e-04,\n",
       "          3.6542e-02,  1.0493e-01],\n",
       "        [-4.8648e-04,  9.8968e-02, -5.8203e-04, -2.0009e-02,  5.9605e-02, -5.0216e-02,  1.1096e-02,  4.1244e-04,\n",
       "          3.7226e-02,  1.0753e-01],\n",
       "        [-1.8666e-03,  9.9039e-02, -2.4085e-03, -2.3376e-02,  6.0221e-02, -4.8531e-02,  9.3420e-03,  1.2158e-03,\n",
       "          3.5860e-02,  1.0665e-01],\n",
       "        [-2.6726e-03,  9.9847e-02, -3.7643e-03, -2.3024e-02,  6.2409e-02, -4.8970e-02,  1.1377e-02,  3.3037e-03,\n",
       "          3.3621e-02,  1.0648e-01],\n",
       "        [-3.2678e-03,  1.0158e-01, -3.9292e-03, -2.2560e-02,  5.9966e-02, -4.4525e-02,  1.2050e-02,  2.4082e-03,\n",
       "          3.5374e-02,  1.0399e-01],\n",
       "        [-3.9220e-03,  9.5213e-02, -5.5900e-03, -2.4237e-02,  6.3082e-02, -5.0784e-02,  1.6194e-02,  3.5013e-03,\n",
       "          3.6229e-02,  1.0776e-01],\n",
       "        [-4.3259e-04,  1.0015e-01, -1.6481e-03, -2.4318e-02,  6.0429e-02, -4.7502e-02,  1.0553e-02,  3.5661e-03,\n",
       "          3.9000e-02,  1.0565e-01],\n",
       "        [-6.1976e-03,  9.8597e-02, -6.5269e-03, -2.5281e-02,  5.9758e-02, -4.8246e-02,  1.3318e-02,  4.4477e-03,\n",
       "          3.4037e-02,  1.0480e-01],\n",
       "        [ 2.5173e-03,  1.0110e-01, -2.7703e-03, -2.1203e-02,  6.0142e-02, -4.6700e-02,  9.5607e-03, -3.2817e-04,\n",
       "          3.6953e-02,  1.0763e-01],\n",
       "        [-4.5181e-04,  9.8860e-02, -1.5267e-03, -2.1974e-02,  6.0594e-02, -4.8965e-02,  1.1124e-02, -1.1832e-04,\n",
       "          3.7028e-02,  1.0723e-01],\n",
       "        [-4.0902e-03,  9.9620e-02, -6.3777e-04, -2.2065e-02,  5.6952e-02, -4.8637e-02,  1.0561e-02,  1.1870e-03,\n",
       "          3.4627e-02,  1.0560e-01],\n",
       "        [-1.5469e-03,  1.0138e-01, -2.6391e-03, -2.0048e-02,  5.9070e-02, -4.7707e-02,  1.0918e-02,  1.5587e-03,\n",
       "          3.6491e-02,  1.0438e-01],\n",
       "        [ 1.2157e-03,  1.0274e-01, -4.9266e-03, -2.3884e-02,  6.3205e-02, -5.1461e-02,  1.4549e-02,  6.6798e-03,\n",
       "          3.7396e-02,  1.1211e-01],\n",
       "        [-2.0944e-03,  1.0027e-01, -3.5582e-03, -2.5767e-02,  6.0260e-02, -4.9241e-02,  1.4935e-02,  2.3020e-03,\n",
       "          3.8773e-02,  1.0440e-01],\n",
       "        [-2.7515e-04,  1.0070e-01, -3.2582e-03, -2.2918e-02,  5.8428e-02, -4.6558e-02,  1.0082e-02,  3.3907e-03,\n",
       "          3.8457e-02,  1.0402e-01],\n",
       "        [ 3.4231e-03,  1.0105e-01, -1.6680e-03, -2.0227e-02,  5.9768e-02, -4.5255e-02,  8.7197e-03, -1.4703e-03,\n",
       "          3.6186e-02,  1.0830e-01],\n",
       "        [-5.5657e-03,  1.0064e-01, -2.4697e-03, -2.3635e-02,  5.9030e-02, -4.6209e-02,  1.3426e-02,  3.7147e-03,\n",
       "          3.9020e-02,  1.0313e-01],\n",
       "        [-1.7493e-03,  1.0096e-01, -2.3142e-03, -2.2814e-02,  5.7661e-02, -4.5063e-02,  9.1531e-03,  4.5985e-03,\n",
       "          3.6269e-02,  1.0443e-01],\n",
       "        [-3.0186e-03,  9.8225e-02, -2.6056e-03, -2.1542e-02,  5.9703e-02, -4.9884e-02,  1.0977e-02,  1.9771e-03,\n",
       "          3.6960e-02,  1.0360e-01],\n",
       "        [ 3.5255e-04,  1.0004e-01, -2.5458e-03, -2.3794e-02,  6.0045e-02, -4.7105e-02,  1.3442e-02,  8.9963e-04,\n",
       "          3.5710e-02,  1.0767e-01],\n",
       "        [-1.8936e-04,  9.9258e-02, -3.1172e-03, -2.4093e-02,  6.0543e-02, -4.8469e-02,  1.0623e-02,  4.3657e-03,\n",
       "          3.7047e-02,  1.0674e-01],\n",
       "        [-3.1533e-03,  9.9541e-02, -4.1861e-03, -2.1244e-02,  5.9097e-02, -4.9917e-02,  1.4049e-02,  3.4150e-03,\n",
       "          3.5785e-02,  1.0664e-01],\n",
       "        [-2.9379e-03,  1.0070e-01,  2.2559e-03, -2.2469e-02,  5.6332e-02, -4.8406e-02,  1.1257e-02,  1.2781e-03,\n",
       "          3.9065e-02,  1.0583e-01],\n",
       "        [-2.9209e-03,  9.7947e-02, -6.8202e-03, -2.5078e-02,  5.9030e-02, -4.6156e-02,  1.1033e-02,  7.7315e-05,\n",
       "          3.3436e-02,  1.0496e-01],\n",
       "        [ 6.0083e-04,  1.0011e-01, -1.0154e-03, -2.0933e-02,  5.9535e-02, -4.5944e-02,  9.7218e-03, -1.1155e-03,\n",
       "          3.9055e-02,  1.0466e-01],\n",
       "        [-5.3572e-03,  9.9360e-02, -3.6137e-03, -2.1180e-02,  5.5680e-02, -4.6369e-02,  9.7450e-03,  1.3217e-03,\n",
       "          3.5271e-02,  1.0123e-01],\n",
       "        [-3.0476e-03,  9.6320e-02, -6.4063e-03, -2.5836e-02,  5.9981e-02, -4.8344e-02,  1.1774e-02,  2.0072e-03,\n",
       "          3.4006e-02,  1.0480e-01],\n",
       "        [-3.4954e-03,  9.6195e-02, -6.7540e-03, -2.8026e-02,  5.8769e-02, -4.9339e-02,  1.5058e-02,  1.8700e-03,\n",
       "          3.3476e-02,  1.0999e-01],\n",
       "        [-1.1009e-03,  9.7785e-02, -4.2544e-03, -2.3087e-02,  5.8851e-02, -5.0919e-02,  1.0748e-02,  2.7228e-03,\n",
       "          3.7721e-02,  1.0576e-01],\n",
       "        [-3.9223e-03,  1.0350e-01, -1.2213e-03, -2.0334e-02,  5.6303e-02, -4.5328e-02,  1.1726e-02, -2.1902e-03,\n",
       "          3.7135e-02,  1.0484e-01],\n",
       "        [ 2.5699e-03,  1.0200e-01, -2.3162e-03, -1.9857e-02,  5.9387e-02, -4.7683e-02,  8.8244e-03, -1.1575e-03,\n",
       "          3.7493e-02,  1.0762e-01],\n",
       "        [-1.1267e-03,  9.9976e-02, -6.1874e-03, -2.2568e-02,  5.9995e-02, -4.5468e-02,  1.0148e-02, -1.4690e-03,\n",
       "          3.5477e-02,  1.0720e-01],\n",
       "        [ 2.0319e-04,  1.0125e-01,  1.0290e-03, -2.2100e-02,  5.9709e-02, -4.9342e-02,  1.0153e-02,  7.9098e-04,\n",
       "          3.8100e-02,  1.0861e-01],\n",
       "        [-1.3115e-03,  1.0154e-01, -7.5230e-03, -2.1377e-02,  6.1804e-02, -4.8696e-02,  1.4274e-02,  5.7837e-03,\n",
       "          3.7166e-02,  1.0802e-01],\n",
       "        [-4.4252e-03,  1.0229e-01, -2.2301e-03, -2.4278e-02,  5.9428e-02, -4.9106e-02,  1.0803e-02,  4.9204e-03,\n",
       "          3.7169e-02,  1.0537e-01],\n",
       "        [ 1.8370e-03,  1.0151e-01, -2.9535e-03, -2.1382e-02,  6.1597e-02, -4.6806e-02,  8.8252e-03,  8.1801e-04,\n",
       "          3.6484e-02,  1.0733e-01],\n",
       "        [-1.4262e-03,  9.7227e-02, -8.8924e-03, -2.2048e-02,  6.3326e-02, -4.8729e-02,  1.2236e-02,  2.0615e-03,\n",
       "          3.4669e-02,  1.0922e-01],\n",
       "        [-3.1574e-03,  1.0066e-01, -5.8716e-04, -2.0977e-02,  5.5885e-02, -4.8486e-02,  9.7034e-03, -2.0158e-03,\n",
       "          3.6483e-02,  1.0461e-01],\n",
       "        [ 1.6650e-03,  1.0295e-01, -4.7323e-03, -2.2418e-02,  6.0594e-02, -4.4798e-02,  9.1079e-03,  1.1686e-03,\n",
       "          3.6210e-02,  1.0694e-01],\n",
       "        [ 1.3645e-03,  1.0099e-01, -3.6542e-03, -2.3438e-02,  6.0947e-02, -4.6289e-02,  1.1609e-02,  3.2397e-03,\n",
       "          3.6727e-02,  1.0661e-01],\n",
       "        [-2.2886e-03,  1.0294e-01, -9.2824e-04, -2.1123e-02,  5.3692e-02, -4.6933e-02,  1.1029e-02,  2.8008e-03,\n",
       "          3.7191e-02,  1.0638e-01],\n",
       "        [ 1.3589e-03,  9.9167e-02, -5.6545e-03, -2.2210e-02,  6.1053e-02, -4.4619e-02,  7.1026e-03, -1.2659e-03,\n",
       "          3.4874e-02,  1.0917e-01],\n",
       "        [-1.8911e-03,  9.6957e-02, -3.1672e-03, -2.4616e-02,  6.1482e-02, -5.0395e-02,  1.2446e-02,  2.7447e-03,\n",
       "          3.6453e-02,  1.0569e-01],\n",
       "        [-8.3064e-04,  9.8568e-02, -1.0026e-02, -2.3650e-02,  6.3829e-02, -4.8745e-02,  1.3963e-02,  4.4691e-03,\n",
       "          3.6031e-02,  1.1054e-01],\n",
       "        [-4.9951e-03,  1.0201e-01, -7.6764e-04, -2.0474e-02,  5.5936e-02, -4.6302e-02,  9.8063e-03,  2.9111e-03,\n",
       "          3.6084e-02,  1.0305e-01],\n",
       "        [-3.5881e-03,  1.0115e-01, -3.6598e-03, -2.3027e-02,  6.0151e-02, -4.7745e-02,  1.2415e-02,  3.3929e-03,\n",
       "          3.8254e-02,  1.0620e-01],\n",
       "        [ 6.3832e-03,  1.0263e-01, -3.4390e-03, -2.1595e-02,  6.0479e-02, -4.4831e-02,  7.8591e-03,  5.8316e-04,\n",
       "          3.5806e-02,  1.1033e-01],\n",
       "        [-2.5248e-03,  1.0134e-01, -4.5672e-03, -2.1937e-02,  5.9874e-02, -4.6725e-02,  1.2697e-02,  7.7348e-04,\n",
       "          3.6870e-02,  1.0567e-01],\n",
       "        [-5.7681e-04,  9.8958e-02, -4.7592e-03, -2.3111e-02,  6.0769e-02, -4.4354e-02,  9.8811e-03,  5.4960e-05,\n",
       "          3.6142e-02,  1.0578e-01],\n",
       "        [-1.4079e-03,  1.0197e-01, -2.7294e-03, -2.1789e-02,  5.7870e-02, -4.7702e-02,  1.0419e-02,  3.7114e-03,\n",
       "          3.6643e-02,  1.0498e-01],\n",
       "        [-9.9764e-04,  9.7363e-02, -9.2657e-03, -2.3027e-02,  6.3660e-02, -4.9218e-02,  1.4754e-02,  5.4396e-03,\n",
       "          3.6605e-02,  1.1038e-01],\n",
       "        [ 2.6450e-03,  1.0066e-01, -9.1187e-04, -2.1041e-02,  5.9797e-02, -4.8166e-02,  9.9679e-03,  1.0944e-03,\n",
       "          3.8161e-02,  1.0825e-01],\n",
       "        [ 9.3112e-04,  1.0243e-01, -3.4911e-03, -2.3272e-02,  6.1162e-02, -4.6604e-02,  9.2409e-03,  2.2203e-03,\n",
       "          3.6086e-02,  1.0634e-01],\n",
       "        [ 6.1357e-04,  1.0136e-01, -3.6397e-03, -2.3093e-02,  5.9889e-02, -4.5916e-02,  8.7918e-03,  2.3501e-03,\n",
       "          3.6486e-02,  1.0740e-01],\n",
       "        [ 5.6262e-04,  1.0090e-01, -7.3860e-04, -2.1492e-02,  5.8903e-02, -4.9210e-02,  1.1159e-02, -3.6703e-04,\n",
       "          3.7675e-02,  1.0667e-01],\n",
       "        [ 2.6099e-03,  1.0004e-01, -7.1357e-04, -2.2321e-02,  5.9605e-02, -4.7095e-02,  1.1553e-02,  1.3287e-03,\n",
       "          3.7786e-02,  1.0816e-01],\n",
       "        [-2.4551e-03,  1.0044e-01, -9.9014e-04, -2.1867e-02,  5.8065e-02, -4.7656e-02,  8.7985e-03,  9.1366e-04,\n",
       "          3.6643e-02,  1.0512e-01],\n",
       "        [-1.3444e-03,  1.0129e-01,  1.7754e-03, -2.3662e-02,  5.8875e-02, -4.6015e-02,  9.5274e-03,  4.0149e-03,\n",
       "          3.8033e-02,  1.0263e-01],\n",
       "        [-6.1246e-04,  9.9153e-02, -3.2283e-03, -2.2979e-02,  6.0951e-02, -4.6485e-02,  1.0047e-02,  2.7514e-03,\n",
       "          3.7633e-02,  1.0594e-01],\n",
       "        [-2.1305e-03,  1.0209e-01, -3.1996e-03, -1.8631e-02,  5.6018e-02, -4.6201e-02,  8.7628e-03,  1.4047e-04,\n",
       "          3.6036e-02,  1.0688e-01],\n",
       "        [-4.8725e-03,  9.9807e-02, -3.1611e-03, -2.2389e-02,  5.3897e-02, -4.6048e-02,  9.5240e-03,  3.3415e-03,\n",
       "          3.7002e-02,  1.0449e-01],\n",
       "        [ 1.2495e-03,  1.0227e-01, -4.8312e-03, -2.4110e-02,  6.2929e-02, -4.8980e-02,  1.3377e-02,  7.7454e-03,\n",
       "          3.8699e-02,  1.0861e-01],\n",
       "        [-1.5812e-03,  1.0221e-01, -4.4602e-03, -2.3741e-02,  6.1636e-02, -4.7430e-02,  1.4344e-02,  6.4550e-03,\n",
       "          3.5450e-02,  1.0303e-01],\n",
       "        [ 2.6632e-04,  1.0130e-01, -2.4118e-03, -2.2289e-02,  5.8294e-02, -4.5927e-02,  9.5164e-03,  4.2112e-03,\n",
       "          3.6681e-02,  1.0575e-01],\n",
       "        [-1.0871e-03,  1.0076e-01, -1.9200e-03, -2.3309e-02,  5.9280e-02, -4.8595e-02,  9.1341e-03,  3.0918e-03,\n",
       "          3.8024e-02,  1.0618e-01],\n",
       "        [ 9.7994e-04,  1.0067e-01, -5.8537e-03, -2.4252e-02,  6.1556e-02, -4.9201e-02,  1.1240e-02,  4.5968e-03,\n",
       "          3.6361e-02,  1.0868e-01],\n",
       "        [-2.0869e-03,  1.0442e-01, -9.0012e-03, -2.2694e-02,  5.8346e-02, -4.2051e-02,  1.2112e-02,  1.9930e-03,\n",
       "          3.7584e-02,  1.0658e-01],\n",
       "        [-2.4150e-03,  1.0036e-01, -5.7972e-03, -2.1562e-02,  5.9828e-02, -4.7599e-02,  1.2322e-02,  4.9338e-03,\n",
       "          3.6906e-02,  1.0451e-01],\n",
       "        [-1.0858e-03,  1.0090e-01, -9.7466e-04, -2.1624e-02,  5.9458e-02, -4.7190e-02,  1.1413e-02,  5.2389e-03,\n",
       "          3.8374e-02,  1.0389e-01]])"
      ]
     },
     "execution_count": 34,
     "metadata": {},
     "output_type": "execute_result"
    }
   ],
   "source": [
    "preds"
   ]
  },
  {
   "cell_type": "code",
   "execution_count": 35,
   "id": "be08f9d7-5161-49ce-9117-77eac961487d",
   "metadata": {},
   "outputs": [
    {
     "data": {
      "text/plain": [
       "4"
      ]
     },
     "execution_count": 35,
     "metadata": {},
     "output_type": "execute_result"
    }
   ],
   "source": [
    "torch.argmax(preds, axis=1).eq(labels).sum().item() # Number of correct class predictions in the batch"
   ]
  },
  {
   "cell_type": "markdown",
   "id": "1f69509c-390a-4695-9c77-8a04a1443912",
   "metadata": {
    "jp-MarkdownHeadingCollapsed": true,
    "tags": []
   },
   "source": [
    "## Train the Model"
   ]
  },
  {
   "cell_type": "code",
   "execution_count": 36,
   "id": "edd65788-4e92-4bff-9aa1-a60663930b45",
   "metadata": {},
   "outputs": [
    {
     "data": {
      "text/plain": [
       "<torch.autograd.grad_mode.set_grad_enabled at 0x238b11275e0>"
      ]
     },
     "execution_count": 36,
     "metadata": {},
     "output_type": "execute_result"
    }
   ],
   "source": [
    "torch.set_grad_enabled(True) # Turn gradient tracking back on (it was turned off earlier)"
   ]
  },
  {
   "attachments": {},
   "cell_type": "markdown",
   "id": "019e7abd-dbd8-4833-a3c8-dc91c2801a1a",
   "metadata": {
    "tags": []
   },
   "source": [
    "### Training process steps:\n",
    "\n",
    "1. Get batch from the training set.\n",
    "2. Pass batch to network.\n",
    "3. Calculate the loss (difference between the predicted values and the true values).\n",
    "4. Calculate the gradient of the loss function *w.r.t* the network's weights.\n",
    "5. Update the weights using the gradients to reduce the loss.\n",
    "6. Repeat steps 1-5 until one epoch is completed.\n",
    "7. Repeat steps 1-6 for as many epochs required to reach the minimum loss."
   ]
  },
  {
   "cell_type": "markdown",
   "id": "c041eff7-2656-4c2d-a745-e82118b35c37",
   "metadata": {
    "jp-MarkdownHeadingCollapsed": true,
    "tags": []
   },
   "source": [
    "### Training with a Single Batch"
   ]
  },
  {
   "cell_type": "code",
   "execution_count": 37,
   "id": "a047b6b1-6d4a-443a-b269-610936b8bc2e",
   "metadata": {},
   "outputs": [],
   "source": [
    "optimizer = optim.Adam(network.parameters(), lr=0.01) # Create an optimizer to update weights and biases according to the gradients"
   ]
  },
  {
   "cell_type": "markdown",
   "id": "be0cfc75-4794-48e6-bfe4-02b263d1666d",
   "metadata": {},
   "source": [
    "The optimizer has access to all the parameters i.e it has access to all the weights and biases and their gradients. Using all this information it can update the weights and biases according to some learning rate and optimization algorithm."
   ]
  },
  {
   "cell_type": "code",
   "execution_count": 38,
   "id": "be1bedb2-5bba-47ac-98c5-e28f19a62981",
   "metadata": {},
   "outputs": [],
   "source": [
    "batch = next(iter(train_loader)) # Load a batch\n",
    "images, labels = batch"
   ]
  },
  {
   "cell_type": "code",
   "execution_count": 39,
   "id": "ebd9788c-4094-4342-b328-350044ce763f",
   "metadata": {},
   "outputs": [
    {
     "data": {
      "text/plain": [
       "2.3071248531341553"
      ]
     },
     "execution_count": 39,
     "metadata": {},
     "output_type": "execute_result"
    }
   ],
   "source": [
    "preds = network(images) # Predict the label for each image\n",
    "loss = F.cross_entropy(preds, labels) # Compute loss between predicted labels and true labels\n",
    "loss.item()"
   ]
  },
  {
   "cell_type": "code",
   "execution_count": 40,
   "id": "82bc6996-40c1-4b77-83ed-d9118de9d800",
   "metadata": {},
   "outputs": [
    {
     "name": "stdout",
     "output_type": "stream",
     "text": [
      "None\n"
     ]
    }
   ],
   "source": [
    "print(network.fc1.weight.grad) # Before calling backward(), the weights have no gradients"
   ]
  },
  {
   "cell_type": "code",
   "execution_count": 41,
   "id": "210f85aa-3fa4-4035-b0c0-d42a1132fc87",
   "metadata": {},
   "outputs": [],
   "source": [
    "loss.backward() # Compute gradients of all parameters w.r.t the loss"
   ]
  },
  {
   "cell_type": "code",
   "execution_count": 42,
   "id": "40d956a1-fb16-4c18-949a-8656b880a2c0",
   "metadata": {},
   "outputs": [
    {
     "name": "stdout",
     "output_type": "stream",
     "text": [
      "tensor([[ 0.0000e+00,  0.0000e+00,  0.0000e+00,  ...,  0.0000e+00,  0.0000e+00,  0.0000e+00],\n",
      "        [ 0.0000e+00,  0.0000e+00,  0.0000e+00,  ...,  4.7007e-05, -8.1640e-06,  3.9935e-06],\n",
      "        [ 0.0000e+00,  0.0000e+00,  0.0000e+00,  ..., -6.6367e-05,  1.3554e-06,  2.4973e-05],\n",
      "        ...,\n",
      "        [ 0.0000e+00,  0.0000e+00,  0.0000e+00,  ...,  0.0000e+00,  0.0000e+00,  0.0000e+00],\n",
      "        [ 0.0000e+00,  0.0000e+00,  0.0000e+00,  ..., -6.9246e-05, -4.2795e-06, -1.4577e-05],\n",
      "        [ 0.0000e+00,  0.0000e+00,  0.0000e+00,  ...,  0.0000e+00,  0.0000e+00, -6.7671e-06]])\n"
     ]
    }
   ],
   "source": [
    "print(network.fc1.weight.grad) # After calling backward(), all the weights have corresponding gradients"
   ]
  },
  {
   "cell_type": "code",
   "execution_count": 43,
   "id": "b24dedbc-6654-4a4f-88d2-29534b18fe01",
   "metadata": {},
   "outputs": [],
   "source": [
    "optimizer.step() # Update the weights and biases according to their gradients"
   ]
  },
  {
   "cell_type": "code",
   "execution_count": 44,
   "id": "231a46b2-aa74-40b0-8b29-a908f90082a3",
   "metadata": {},
   "outputs": [
    {
     "data": {
      "text/plain": [
       "2.2888381481170654"
      ]
     },
     "execution_count": 44,
     "metadata": {},
     "output_type": "execute_result"
    }
   ],
   "source": [
    "preds = network(images) # Make predictions with new weights\n",
    "loss = F.cross_entropy(preds, labels)\n",
    "loss.item() # Loss has decreased"
   ]
  },
  {
   "cell_type": "markdown",
   "id": "11bdc602-7399-4b58-b223-fe710936f14b",
   "metadata": {
    "jp-MarkdownHeadingCollapsed": true,
    "tags": []
   },
   "source": [
    "### Full Training Loop"
   ]
  },
  {
   "cell_type": "code",
   "execution_count": 45,
   "id": "20e2e7e0-09bf-4f37-8053-8f3aa05bc3e4",
   "metadata": {},
   "outputs": [],
   "source": [
    "# Re-initialize the network, data loader, and optimizer\n",
    "network = Network()\n",
    "train_loader = torch.utils.data.DataLoader(train_set, batch_size=100)\n",
    "optimizer = optim.Adam(network.parameters(), lr=0.01)"
   ]
  },
  {
   "cell_type": "code",
   "execution_count": 46,
   "id": "38e9ba66-0ff0-403e-9cec-414615b2663e",
   "metadata": {},
   "outputs": [
    {
     "name": "stdout",
     "output_type": "stream",
     "text": [
      "Epoch: 0 \t Loss: 385.67105934023857\n",
      "Epoch: 1 \t Loss: 267.6284728050232\n",
      "Epoch: 2 \t Loss: 245.66920641064644\n",
      "Epoch: 3 \t Loss: 230.14244459569454\n",
      "Epoch: 4 \t Loss: 218.70263870060444\n",
      "Epoch: 5 \t Loss: 210.89563383162022\n",
      "Epoch: 6 \t Loss: 205.32754273712635\n",
      "Epoch: 7 \t Loss: 200.808532461524\n",
      "Epoch: 8 \t Loss: 199.86761066317558\n",
      "Epoch: 9 \t Loss: 199.76845198869705\n"
     ]
    }
   ],
   "source": [
    "for epoch in range(10):\n",
    "    \n",
    "    total_loss = 0\n",
    "    for batch in train_loader:\n",
    "        images, labels = batch\n",
    "        \n",
    "        preds = network(images) # Predict labels for images in batch\n",
    "        loss = F.cross_entropy(preds, labels) # Compare predicted lables with true labels\n",
    "        \n",
    "        optimizer.zero_grad() # Make the gradients zero to prevent them from accumilating\n",
    "        loss.backward() # Compute gradients\n",
    "        optimizer.step() # Update weights\n",
    "        \n",
    "        total_loss += loss.item() # Total loss over one epoch\n",
    "    \n",
    "    print(f\"Epoch: {epoch} \\t Loss: {total_loss}\")"
   ]
  },
  {
   "cell_type": "markdown",
   "id": "9105beec-086e-4d38-b1d8-5ebc9eac7b9b",
   "metadata": {
    "jp-MarkdownHeadingCollapsed": true,
    "tags": []
   },
   "source": [
    "## Analyze the Results"
   ]
  },
  {
   "cell_type": "code",
   "execution_count": 47,
   "id": "47b83755-dc0a-42ac-85c0-7abab5bfb861",
   "metadata": {},
   "outputs": [
    {
     "data": {
      "text/plain": [
       "(60000, torch.Size([60000, 28, 28]), torch.Size([60000]))"
      ]
     },
     "execution_count": 47,
     "metadata": {},
     "output_type": "execute_result"
    }
   ],
   "source": [
    "len(train_set), train_set.data.shape, train_set.targets.shape"
   ]
  },
  {
   "cell_type": "code",
   "execution_count": 48,
   "id": "d0120314-8b8f-4469-a5e6-a22038215ef1",
   "metadata": {},
   "outputs": [],
   "source": [
    "@torch.no_grad()\n",
    "def get_all_preds(model, loader):\n",
    "    all_preds = torch.tensor([])\n",
    "    for batch in loader:\n",
    "        images, labels = batch\n",
    "        preds = model(images)\n",
    "        all_preds = torch.cat((all_preds, preds), axis=0)\n",
    "    return all_preds"
   ]
  },
  {
   "cell_type": "code",
   "execution_count": 49,
   "id": "68613b14-7c9e-4056-a623-52cc18a123e2",
   "metadata": {},
   "outputs": [],
   "source": [
    "with torch.no_grad(): # We don't need to keep track of the computation graph for gradient tracking\n",
    "    prediction_loader = torch.utils.data.DataLoader(train_set, batch_size=10000)\n",
    "    train_preds = get_all_preds(network, prediction_loader)"
   ]
  },
  {
   "cell_type": "markdown",
   "id": "42b205df-27da-4bcd-b983-4281c585ffdc",
   "metadata": {},
   "source": [
    "There are 3 ways to **turn off gradient tracking**\n",
    "1. Globally turn off gradient tracking: `torch.set_grad_enabled(False)`\n",
    "2. Locally turn off gradient tracking: `with torch.no_grad():`\n",
    "3. Turn off gradient tracking for a function whenever it's called: `@torch.no_grad()`"
   ]
  },
  {
   "cell_type": "code",
   "execution_count": 50,
   "id": "e153fd49-26b7-4806-b849-0f9f2f99dcf0",
   "metadata": {},
   "outputs": [
    {
     "data": {
      "text/plain": [
       "torch.Size([60000, 10])"
      ]
     },
     "execution_count": 50,
     "metadata": {},
     "output_type": "execute_result"
    }
   ],
   "source": [
    "train_preds.shape"
   ]
  },
  {
   "cell_type": "code",
   "execution_count": 51,
   "id": "0fc31c70-c3a7-4c36-acd4-63f2681b428f",
   "metadata": {},
   "outputs": [
    {
     "data": {
      "text/plain": [
       "tensor([9, 0, 0,  ..., 3, 0, 5])"
      ]
     },
     "execution_count": 51,
     "metadata": {},
     "output_type": "execute_result"
    }
   ],
   "source": [
    "expected_labels = train_set.targets\n",
    "expected_labels"
   ]
  },
  {
   "cell_type": "code",
   "execution_count": 52,
   "id": "fb098db7-96bc-44b9-8837-1af7bdba8142",
   "metadata": {},
   "outputs": [
    {
     "data": {
      "text/plain": [
       "tensor([9, 0, 0,  ..., 3, 0, 5])"
      ]
     },
     "execution_count": 52,
     "metadata": {},
     "output_type": "execute_result"
    }
   ],
   "source": [
    "actual_labels = train_preds.argmax(axis=1)\n",
    "actual_labels"
   ]
  },
  {
   "cell_type": "code",
   "execution_count": 53,
   "id": "bb027df7-c034-4e95-97a8-4ec32b85431a",
   "metadata": {},
   "outputs": [
    {
     "data": {
      "text/plain": [
       "0.87135"
      ]
     },
     "execution_count": 53,
     "metadata": {},
     "output_type": "execute_result"
    }
   ],
   "source": [
    "sum(expected_labels==actual_labels).item()/len(train_set) # Accuracy"
   ]
  },
  {
   "cell_type": "code",
   "execution_count": 54,
   "id": "07a3158b-29e5-40b9-8dfb-cd400b75ef74",
   "metadata": {},
   "outputs": [
    {
     "data": {
      "text/plain": [
       "array([[5647,    2,  117,   87,    6,    3,   91,    1,   45,    1],\n",
       "       [  66, 5803,    9,   93,   17,    0,    0,    0,   12,    0],\n",
       "       [  96,    1, 5099,   65,  435,    1,  257,    1,   45,    0],\n",
       "       [ 438,   40,   35, 5284,  149,    0,   39,    0,   12,    3],\n",
       "       [  33,    0,  654,  237, 4857,    0,  200,    0,   19,    0],\n",
       "       [   3,    0,    0,    1,    0, 5609,    0,  190,   25,  172],\n",
       "       [1817,    3,  675,  118,  694,    0, 2609,    0,   84,    0],\n",
       "       [   0,    0,    0,    0,    0,   28,    0, 5762,   46,  164],\n",
       "       [  25,    2,   31,   17,   25,    7,   31,    6, 5852,    4],\n",
       "       [   1,    0,    0,    0,    0,    3,    0,  231,    6, 5759]],\n",
       "      dtype=int64)"
      ]
     },
     "execution_count": 54,
     "metadata": {},
     "output_type": "execute_result"
    }
   ],
   "source": [
    "cm = confusion_matrix(expected_labels, actual_labels)\n",
    "cm"
   ]
  },
  {
   "cell_type": "code",
   "execution_count": 55,
   "id": "64f99a99-9b6c-48ef-836b-7d6f2a5b7802",
   "metadata": {},
   "outputs": [
    {
     "data": {
      "image/png": "[encoded data removed]",
      "text/plain": [
       "<Figure size 500x500 with 2 Axes>"
      ]
     },
     "metadata": {},
     "output_type": "display_data"
    }
   ],
   "source": [
    "def plot_cm(cm, classes):\n",
    "    plt.figure(figsize=(5,5))\n",
    "    plt.title('Confusion Matrix')\n",
    "    plt.imshow(cm, cmap=plt.cm.Blues)\n",
    "    plt.colorbar()\n",
    "    plt.xticks(np.arange(len(classes)), classes, rotation=90)\n",
    "    plt.yticks(np.arange(len(classes)), classes)\n",
    "    plt.xlabel('Predicted label')\n",
    "    plt.ylabel('True label')\n",
    "    plt.tight_layout()\n",
    "    plt.show()\n",
    "\n",
    "plot_cm(cm, train_set.classes)"
   ]
  }
 ],
 "metadata": {
  "kernelspec": {
   "display_name": "Python 3 (ipykernel)",
   "language": "python",
   "name": "python3"
  },
  "language_info": {
   "codemirror_mode": {
    "name": "ipython",
    "version": 3
   },
   "file_extension": ".py",
   "mimetype": "text/x-python",
   "name": "python",
   "nbconvert_exporter": "python",
   "pygments_lexer": "ipython3",
   "version": "3.10.11"
  },
  "toc-autonumbering": false,
  "toc-showcode": false,
  "toc-showmarkdowntxt": false
 },
 "nbformat": 4,
 "nbformat_minor": 5
}
